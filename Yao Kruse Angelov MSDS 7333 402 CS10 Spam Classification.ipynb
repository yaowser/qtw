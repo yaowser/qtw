{
 "cells": [
  {
   "cell_type": "markdown",
   "metadata": {},
   "source": [
    "# Case Study Unit 10 - Spam Identification\n",
    "Yao Yao, Brian Kruse, Ivelin Angelov\n",
    "\n",
    "MSDS 7333 Section 402\n",
    "\n",
    "July 23, 2018\n",
    "\n",
    "## Introduction\n",
    "Procedures for filtering email messages can have misclassify wanted emails as spam and unwanted emails as not spam. 9,348 pre-labeled emails are classified as either ham or spam by SpamAssassin for creating and testing spam filters [1]. Email parts are identified and enumerated into features by header, message body, and attachment. Excessive punctuation, capitalization, number of lines, and number of characters are also identified and enumerated into features. After creating features by message characteristics and tallies, spam filters use decision trees and recursive partitioning to determine message label. Resulting labeled sub-groups split from variable thresholds of certain features are drawn as a tree diagram in the recursive subset partitioning process to train and test the dataset. Classification errors in labeling spam and ham are then evaluated for Type I and Type II errors for multiple models.\n",
    "\n",
    "We are answering question 20 from the \"Data Science in R\" textbook (Page 168) [2]: *\"We used the test set that we had put aside to both select τ, the threshold for the log odds, and to evaluate the Type I and II errors incurred when we use this threshold. Ideally, we choose τ from another set of messages that is both independent of our training data and our test data. The method of cross-validation is designed to use the training set for training and validating the model. Implement 5-fold cross-validation to choose τ and assess the error rate with our training data.*\n",
    "\n",
    "## Methods\n",
    "The steps used for this analysis are: 1) load and clean the data; 2) enumerate data into features by header, message body, and attachment; 3) enumerate data into features by excessive punctuation, capitalization, number of characters, and number of lines; 4) use decision trees and recursive partitioning to determine message label; 5) choose τ to evaluate for Type I and Type II errors for labeling spam and ham; 6) optimize Naive Bayes, CART, random forest, XGBoost, and SVM models by parameter to reduce Type I and II errors by F1 Score [2][3]."
   ]
  },
  {
   "cell_type": "code",
   "execution_count": 1,
   "metadata": {},
   "outputs": [],
   "source": [
    "options(warn=-1)\n",
    "suppressPackageStartupMessages(require(tm))\n",
    "library(RColorBrewer)\n",
    "library(rpart)\n",
    "library(rpart.plot)\n",
    "suppressPackageStartupMessages(require(caret))\n",
    "suppressPackageStartupMessages(require(MLmetrics))\n",
    "library(naivebayes)\n",
    "library(e1071)\n",
    "suppressPackageStartupMessages(require(randomForest))\n",
    "library(xgboost)\n",
    "library(ggplot2)\n",
    "suppressPackageStartupMessages(require(kernlab))"
   ]
  },
  {
   "cell_type": "markdown",
   "metadata": {},
   "source": [
    "## Results\n",
    "\n",
    "### Data Load and Clean\n",
    "\n",
    "DataLoadAndClean.R is a separate external notebook loaded for the cleaning process and allows us to focus on our analysis for determining message label and evaluate Type I and Type II errors. Exploratory analysis reveals that there are 9348 messages, including 6451 easy ham, 500 hard ham, and 2397 spam messages. The dataset is of dimension 9348 x 30."
   ]
  },
  {
   "cell_type": "code",
   "execution_count": 2,
   "metadata": {},
   "outputs": [],
   "source": [
    "# Please use directory with messages downloaded\n",
    "source('DataLoadAndClean.R', echo = FALSE)"
   ]
  },
  {
   "cell_type": "markdown",
   "metadata": {},
   "source": [
    "### a) Use the sample() function to permute the indices of the training set, and organize these permuted indices into 5 equal-size sets, called folds.\n",
    "\n",
    "Using a seed of 418910, the sample function was used to train (67%) and test (33%) the spam and ham datasets. The number of unique words counted in the training set is 80,059."
   ]
  },
  {
   "cell_type": "code",
   "execution_count": 3,
   "metadata": {},
   "outputs": [
    {
     "data": {
      "text/html": [
       "80059"
      ],
      "text/latex": [
       "80059"
      ],
      "text/markdown": [
       "80059"
      ],
      "text/plain": [
       "[1] 80059"
      ]
     },
     "metadata": {},
     "output_type": "display_data"
    }
   ],
   "source": [
    "set.seed(418910)\n",
    "\n",
    "testSpamIdx = sample(numSpam, size = floor(numSpam/3))\n",
    "testHamIdx = sample(numHam, size = floor(numHam/3))\n",
    "testMsgWords = c((msgWordsList[isSpam])[testSpamIdx], (msgWordsList[!isSpam])[testHamIdx] )\n",
    "trainMsgWords = c((msgWordsList[isSpam])[ - testSpamIdx], (msgWordsList[!isSpam])[ - testHamIdx])\n",
    "\n",
    "testIsSpam = rep(c(TRUE, FALSE), c(length(testSpamIdx), length(testHamIdx)))\n",
    "trainIsSpam = rep(c(TRUE, FALSE), c(numSpam - length(testSpamIdx), numHam - length(testHamIdx)))\n",
    "bow = unique(unlist(trainMsgWords))\n",
    "length(bow)\n",
    "\n",
    "spamWordCounts = rep(0, length(bow))\n",
    "names(spamWordCounts) = bow\n",
    "\n",
    "tmp = lapply(trainMsgWords[trainIsSpam], unique)\n",
    "tt = table( unlist(tmp) )\n",
    "spamWordCounts[ names(tt) ] = tt"
   ]
  },
  {
   "cell_type": "markdown",
   "metadata": {},
   "source": [
    "### b) For each fold, take the corresponding subset from the training data to use as a ‘test’ set. Use the remaining messages in the training data as the training set. Apply the functions developed to estimate the probabilities that a word occurs in a message given it is spam or ham, and use these probabilities to compute the log likelihood ratio for the messages in the training set.\n",
    "\n",
    "The sum of the log likelihood can be calculated by using the bag of words technique by comparing the training set with the test set. The sum of the log likelihood is 255.04 for spam test messages matching with the word bank of the spam training set and the sum of the log likelihood is -124.32 for ham test messages matching with the word bank of the spam training set."
   ]
  },
  {
   "cell_type": "code",
   "execution_count": 4,
   "metadata": {},
   "outputs": [
    {
     "data": {
      "text/html": [
       "255.047582176991"
      ],
      "text/latex": [
       "255.047582176991"
      ],
      "text/markdown": [
       "255.047582176991"
      ],
      "text/plain": [
       "[1] 255.0476"
      ]
     },
     "metadata": {},
     "output_type": "display_data"
    },
    {
     "data": {
      "text/html": [
       "-124.327460041106"
      ],
      "text/latex": [
       "-124.327460041106"
      ],
      "text/markdown": [
       "-124.327460041106"
      ],
      "text/plain": [
       "[1] -124.3275"
      ]
     },
     "metadata": {},
     "output_type": "display_data"
    }
   ],
   "source": [
    "computeFreqs = function(wordsList, spam, bow = unique(unlist(wordsList)))\n",
    "{\n",
    "  # create a matrix for spam, ham, and log odds\n",
    "  wordTable = matrix(0.5, nrow = 4, ncol = length(bow),\n",
    "                     dimnames = list(c(\"spam\", \"ham\", \"presentLogOdds\", \"absentLogOdds\"),  bow))\n",
    "  \n",
    "  # For each spam message, add 1 to counts for words in message\n",
    "  counts.spam = table(unlist(lapply(wordsList[spam], unique)))\n",
    "  wordTable[\"spam\", names(counts.spam)] = counts.spam + .5\n",
    "  \n",
    "  # Similarly for ham messages\n",
    "  counts.ham = table(unlist(lapply(wordsList[!spam], unique)))  \n",
    "  wordTable[\"ham\", names(counts.ham)] = counts.ham + .5  \n",
    "  \n",
    "  # Find the total number of spam and ham\n",
    "  numSpam = sum(spam)\n",
    "  numHam = length(spam) - numSpam\n",
    "  \n",
    "  # Prob(word|spam) and Prob(word | ham)\n",
    "  wordTable[\"spam\", ] = wordTable[\"spam\", ]/(numSpam + .5)\n",
    "  wordTable[\"ham\", ] = wordTable[\"ham\", ]/(numHam + .5)\n",
    "  \n",
    "  # log odds\n",
    "  wordTable[\"presentLogOdds\", ] = log(wordTable[\"spam\",]) - log(wordTable[\"ham\", ])\n",
    "  wordTable[\"absentLogOdds\", ] = log((1 - wordTable[\"spam\", ])) - log((1 -wordTable[\"ham\", ]))\n",
    "  invisible(wordTable)\n",
    "}\n",
    "\n",
    "trainTable = computeFreqs(trainMsgWords, trainIsSpam)\n",
    "newMsg = testMsgWords[[1]]\n",
    "newMsg = newMsg[!is.na(match(newMsg, colnames(trainTable)))]\n",
    "present = colnames(trainTable) %in% newMsg\n",
    "sum(trainTable[\"presentLogOdds\", present]) + sum(trainTable[\"absentLogOdds\", !present])\n",
    "\n",
    "newMsg = testMsgWords[[ which(!testIsSpam)[1] ]]\n",
    "newMsg = newMsg[!is.na(match(newMsg, colnames(trainTable)))]\n",
    "present = (colnames(trainTable) %in% newMsg)\n",
    "sum(trainTable[\"presentLogOdds\", present]) + sum(trainTable[\"absentLogOdds\", !present])"
   ]
  },
  {
   "cell_type": "markdown",
   "metadata": {},
   "source": [
    "A log likelihood ratio function can be used to find the distribution of words in the ham and spam messages matching with that of the spam word bank [Table 1].\n",
    "\n",
    "#### Table 1: The Log Likelihood Ratio Distribution For Ham and Spam Messages"
   ]
  },
  {
   "cell_type": "code",
   "execution_count": 5,
   "metadata": {},
   "outputs": [
    {
     "data": {
      "text/plain": [
       "$`FALSE`\n",
       "    Min.  1st Qu.   Median     Mean  3rd Qu.     Max. \n",
       "-1361.89  -127.06  -101.18  -116.25   -81.26   700.23 \n",
       "\n",
       "$`TRUE`\n",
       "     Min.   1st Qu.    Median      Mean   3rd Qu.      Max. \n",
       "  -60.574     6.369    49.837   137.546   131.719 23518.028 \n"
      ]
     },
     "metadata": {},
     "output_type": "display_data"
    }
   ],
   "source": [
    "computeMsgLLR = function(words, freqTable) \n",
    "{\n",
    "  # Discards words not in training data.\n",
    "  words = words[!is.na(match(words, colnames(freqTable)))]\n",
    "  \n",
    "  # Find which words are present\n",
    "  present = colnames(freqTable) %in% words\n",
    "  sum(freqTable[\"presentLogOdds\", present]) + sum(freqTable[\"absentLogOdds\", !present])\n",
    "}\n",
    "\n",
    "testLLR = sapply(testMsgWords, computeMsgLLR, trainTable)\n",
    "tapply(testLLR, testIsSpam, summary)"
   ]
  },
  {
   "cell_type": "markdown",
   "metadata": {},
   "source": [
    "#### Table 1: Ham messages have a median of -101.19 and spam messages have a median of 49.837 for their respective log likelihood ratios.\n",
    "\n",
    "The log likelihood ratio can be displayed using a boxplot for the distribution of both ham and spam messages [Figure 1]."
   ]
  },
  {
   "cell_type": "code",
   "execution_count": 6,
   "metadata": {},
   "outputs": [
    {
     "data": {
      "image/png": "[encoded data removed]",
      "text/plain": [
       "Plot with title \"Figure 1: Log Likelihood Ratio for Randomly Chosen Test Messages\""
      ]
     },
     "metadata": {},
     "output_type": "display_data"
    }
   ],
   "source": [
    "spamLab = c(\"ham\", \"spam\")[1 + testIsSpam]\n",
    "boxplot(testLLR ~ spamLab, ylab = \"Log Likelihood Ratio\",\n",
    "        main = \"Figure 1: Log Likelihood Ratio for Randomly Chosen Test Messages\",\n",
    "        ylim=c(-500, 500))"
   ]
  },
  {
   "cell_type": "markdown",
   "metadata": {},
   "source": [
    "#### Figure 1: Boxplot showing the distribution of the log likelihood ratios for both spam and ham messages.\n",
    "\n",
    "### c) Pool all of the likelihood-ratio values from the messages in all of the folds, i.e., from all of the training data, and use these values and the typeIErrorRate() function to select threshold that achieves a 1% Type I error.\n",
    "\n",
    "The functions typeIErrorRates and typeIIErrorRates uses log likelihood ratios to calculate for false positives and false negatives for all 5 folds, respectively. To minimize the binary classification error for the overall confusion matrix, Tau is introduced to optimize where Type I and Type II errors are at their minimum."
   ]
  },
  {
   "cell_type": "code",
   "execution_count": 7,
   "metadata": {},
   "outputs": [
    {
     "data": {
      "text/html": [
       "-43"
      ],
      "text/latex": [
       "-43"
      ],
      "text/markdown": [
       "-43"
      ],
      "text/plain": [
       "[1] -43"
      ]
     },
     "metadata": {},
     "output_type": "display_data"
    },
    {
     "data": {
      "text/html": [
       "0.0103582218385844"
      ],
      "text/latex": [
       "0.0103582218385844"
      ],
      "text/markdown": [
       "0.0103582218385844"
      ],
      "text/plain": [
       "[1] 0.01035822"
      ]
     },
     "metadata": {},
     "output_type": "display_data"
    },
    {
     "data": {
      "text/html": [
       "0.0225281602002503"
      ],
      "text/latex": [
       "0.0225281602002503"
      ],
      "text/markdown": [
       "0.0225281602002503"
      ],
      "text/plain": [
       "[1] 0.02252816"
      ]
     },
     "metadata": {},
     "output_type": "display_data"
    }
   ],
   "source": [
    "#These functions are for all 5 folds\n",
    "typeIErrorRates = function(llrVals, isSpam) \n",
    "{\n",
    "  o = order(llrVals)\n",
    "  llrVals =  llrVals[o]\n",
    "  isSpam = isSpam[o]\n",
    "  \n",
    "  idx = which(!isSpam)\n",
    "  N = length(idx)\n",
    "  list(error = (N:1)/N, values = llrVals[idx])\n",
    "}\n",
    "\n",
    "typeIIErrorRates = function(llrVals, isSpam) {\n",
    "  o = order(llrVals)\n",
    "  llrVals =  llrVals[o]\n",
    "  isSpam = isSpam[o]\n",
    "  \n",
    "  idx = which(isSpam)\n",
    "  N = length(idx)\n",
    "  list(error = (1:(N))/N, values = llrVals[idx])\n",
    "}  \n",
    "\n",
    "xI = typeIErrorRates(testLLR, testIsSpam)\n",
    "xII = typeIIErrorRates(testLLR, testIsSpam)\n",
    "tau01 = round(min(xI$values[xI$error <= 0.01]))\n",
    "tau01\n",
    "t1 = max(xI$error[ xI$values > tau01 ])\n",
    "t1\n",
    "t2 = max(xII$error[ xII$values < tau01 ])\n",
    "t2"
   ]
  },
  {
   "cell_type": "markdown",
   "metadata": {},
   "source": [
    "The error rates for spam and ham misclassifications show that Tau is optimized at -43, where the Type I Error rate is minimized at 0.0103 and the Type II Error rate is minimized at 0.0225 [Figure 2]."
   ]
  },
  {
   "cell_type": "code",
   "execution_count": 8,
   "metadata": {},
   "outputs": [
    {
     "data": {
      "image/png": "[encoded data removed]",
      "text/plain": [
       "Plot with title \"Figure 2: The Error Rates For Spam and Ham Misclassifications\""
      ]
     },
     "metadata": {},
     "output_type": "display_data"
    }
   ],
   "source": [
    "cols = brewer.pal(9, \"Set1\")[c(3, 4, 5)]\n",
    "plot(xII$error ~ xII$values,  type = \"l\", col = cols[1], lwd = 3,\n",
    "     xlim = c(-300, 250), ylim = c(0, 1),\n",
    "     xlab = \"Log Likelihood Ratio Values\", ylab=\"Error Rate\",\n",
    "     main = \"Figure 2: The Error Rates For Spam and Ham Misclassifications\")\n",
    "points(xI$error ~ xI$values, type = \"l\", col = cols[2], lwd = 3)\n",
    "legend(x = 50, y = 0.4, fill = c(cols[2], cols[1]), \n",
    "       legend = c(\"Classify Ham as Spam\", \"Classify Spam as Ham\"), cex = 0.8, bty = \"n\")\n",
    "abline(h=0.01, col =\"grey\", lwd = 3, lty = 2)\n",
    "text(-250, 0.05, pos = 4, \"Type I Error = 0.01\", col = cols[2])\n",
    "\n",
    "mtext(tau01, side = 1, line = 0.5, at = tau01, col = cols[3])\n",
    "segments(x0 = tau01, y0 = -.50, x1 = tau01, y1 = t2, lwd = 2, col = \"grey\")\n",
    "text(tau01 + 20, 0.05, pos = 4, paste(\"Type II Error = \", round(t2, digits = 2)), col = cols[1])"
   ]
  },
  {
   "cell_type": "markdown",
   "metadata": {},
   "source": [
    "#### Figure 2: Tau is optimized at -43 where Type I and Type II errors are at their minimum.\n",
    "\n",
    "Using five equal folds of the training set, the optimization of Tau and the minimization of Type I and Type II error rates are calculated."
   ]
  },
  {
   "cell_type": "code",
   "execution_count": 9,
   "metadata": {},
   "outputs": [],
   "source": [
    "k = 5\n",
    "numTrain = length(trainMsgWords)\n",
    "partK = sample(numTrain)\n",
    "tot = k * floor(numTrain/k)\n",
    "partK = matrix(partK[1:tot], ncol = k)\n",
    "\n",
    "testFoldOdds = NULL\n",
    "for (i in 1:k) {\n",
    "  foldIdx = partK[ , i]\n",
    "  trainTabFold = computeFreqs(trainMsgWords[-foldIdx], trainIsSpam[-foldIdx])\n",
    "  testFoldOdds = c(testFoldOdds, sapply(trainMsgWords[ foldIdx ], computeMsgLLR, trainTabFold))\n",
    "}\n",
    "\n",
    "testFoldSpam = NULL\n",
    "for (i in 1:k) {\n",
    "  foldIdx = partK[ , i]\n",
    "  testFoldSpam = c(testFoldSpam, trainIsSpam[foldIdx])\n",
    "}\n",
    "\n",
    "xFoldI = typeIErrorRates(testFoldOdds, testFoldSpam)\n",
    "xFoldII = typeIIErrorRates(testFoldOdds, testFoldSpam)\n",
    "tauFoldI = round(min(xFoldI$values[xFoldI$error <= 0.01]))\n",
    "tFold2 = xFoldII$error[ xFoldII$values < tauFoldI ]\n",
    "\n",
    "smallNums = rep((1/2)^40, 2000000)"
   ]
  },
  {
   "cell_type": "markdown",
   "metadata": {},
   "source": [
    "### Data Feature Creation\n",
    "\n",
    "DataFeatureCreation.R is another separate external notebook to create additional features from message header, body, and attachment by email parts. It also finds the percentages of capital letters, line and character tallies, spam key words, and excess punctuation. The occurrence of \"Re:\" in headers and sender's address that end in numbers are evaluated. Spam key words include \"viagra\", \"pounds\", \"free\", \"weight\", \"guarantee\", \"million\", \"dollars\", \"credit\", \"risk\", \"prescription\", \"generic\", \"drug\", \"financial\", \"save\", \"erotic\", \"barrister\", \"beneficiary\", \"easy\", \"money back\", \"money\", and \"credit card\"."
   ]
  },
  {
   "cell_type": "code",
   "execution_count": 10,
   "metadata": {},
   "outputs": [
    {
     "name": "stdout",
     "output_type": "stream",
     "text": [
      "[1] 1.8189894035458565e-06\n",
      "[1] 10000.000001818989\n",
      "[1] 10000\n"
     ]
    }
   ],
   "source": [
    "# Another cleaning file to distinguish message header, body, and attachment by email parts\n",
    "# Find percentage of capital letters, character frequencies, word tallies, spam key words, and excess punctuation\n",
    "source('DataFeatureCreation.R', echo = FALSE)"
   ]
  },
  {
   "cell_type": "markdown",
   "metadata": {},
   "source": [
    "The number of lines and the number of characters within message bodies are positively correlated [Figure 3]."
   ]
  },
  {
   "cell_type": "code",
   "execution_count": 11,
   "metadata": {},
   "outputs": [
    {
     "data": {
      "image/png": "[encoded data removed]",
      "text/plain": [
       "Plot with title \"Figure 3: The Number of Characters and Lines in Message Body\""
      ]
     },
     "metadata": {},
     "output_type": "display_data"
    }
   ],
   "source": [
    "plot(nL ~ nC, log = \"xy\", pch=\".\", xlim=c(1,100000), axes = FALSE, \n",
    "     xlab = \"Number of Characters\", ylab = \"Number of Lines\", main = \"Figure 3: The Number of Characters and Lines in Message Body\")\n",
    "box() \n",
    "axis(1, at = x.at, labels = formatC(x.at, digits = 0, format=\"d\"))\n",
    "axis(2, at = y.at, labels = formatC(y.at, digits = 0, format=\"d\")) \n",
    "abline(a=0, b=1, col=\"red\", lwd = 2)"
   ]
  },
  {
   "cell_type": "markdown",
   "metadata": {},
   "source": [
    "#### Figure 3: The number of lines and the number of characters are positively correlated\n",
    "\n",
    "Spam messages have a slightly higher percentage of capital letters than ham messages [Figure 4]."
   ]
  },
  {
   "cell_type": "code",
   "execution_count": 12,
   "metadata": {},
   "outputs": [
    {
     "data": {
      "image/png": "[encoded data removed]",
      "text/plain": [
       "Plot with title \"Figure 4: Percentage of Capital Letters for Spam and Ham (Log Scale)\""
      ]
     },
     "metadata": {},
     "output_type": "display_data"
    }
   ],
   "source": [
    "percent = emailDF$perCaps\n",
    "isSpamLabs = factor(emailDF$isSpam, labels = c(\"ham\", \"spam\"))\n",
    "boxplot(log(1 + percent) ~ isSpamLabs, ylab = \"Percent Capitals (log)\", \n",
    "        main = \"Figure 4: Percentage of Capital Letters for Spam and Ham (Log Scale)\")"
   ]
  },
  {
   "cell_type": "markdown",
   "metadata": {},
   "source": [
    "#### Figure 4: Spam messages tend to have more capital letters than ham messages.\n",
    "\n",
    "The percentage of capital letters of spam and ham emails when graphed against each other show that spam messages have a higher tendancy of capital letters than ham messages [Figure 5]."
   ]
  },
  {
   "cell_type": "code",
   "execution_count": 13,
   "metadata": {},
   "outputs": [
    {
     "data": {
      "image/png": "[encoded data removed]",
      "text/plain": [
       "Plot with title \"Figure 5: Percentage of Capital Letters (Log Scale)\""
      ]
     },
     "metadata": {},
     "output_type": "display_data"
    }
   ],
   "source": [
    "logPerCapsSpam = log(1 + emailDF$perCaps[ emailDF$isSpam ])\n",
    "logPerCapsHam = log(1 + emailDF$perCaps[ !emailDF$isSpam ])\n",
    "\n",
    "qqplot(logPerCapsSpam, logPerCapsHam, \n",
    "       xlab = \"Regular Email\", ylab = \"Spam Email\", \n",
    "       main = \"Figure 5: Percentage of Capital Letters (Log Scale)\",\n",
    "       pch = 19, cex = 0.3)"
   ]
  },
  {
   "cell_type": "markdown",
   "metadata": {},
   "source": [
    "#### Figure 5: Spam messages have a higher tendancy of capital letters than ham messages.\n",
    "\n",
    "A scatterplot shows that spam messages tend to have more capital letters and total characters than ham messages [Figure 6]."
   ]
  },
  {
   "cell_type": "code",
   "execution_count": 33,
   "metadata": {},
   "outputs": [
    {
     "data": {
      "image/png": "[encoded data removed]",
      "text/plain": [
       "Plot with title \"Figure 6: % Capitals vs Total Characters for Spam and Ham (Log-Log Scale)\""
      ]
     },
     "metadata": {},
     "output_type": "display_data"
    }
   ],
   "source": [
    "colI = c(\"#4DAF4A80\", \"#984EA380\")\n",
    "logBodyCharCt = log(1 + emailDF$bodyCharCt)\n",
    "logPerCaps = log(1 + emailDF$perCaps)\n",
    "plot(logPerCaps ~ logBodyCharCt, xlab = \"Total Characters (log)\",\n",
    "     ylab = \"Percent Capitals (log)\", main = \"Figure 6: % Capitals vs Total Characters for Spam and Ham (Log-Log Scale)\",\n",
    "     col = colI[1 + emailDF$isSpam],\n",
    "     xlim = c(2,12), pch = 19, cex = 0.5)"
   ]
  },
  {
   "cell_type": "markdown",
   "metadata": {},
   "source": [
    "#### Figure 6: Spam messages (purple) tend to have more capital letters and total characters than ham messages (green) [Figure 6].\n",
    "\n",
    "Number of attachments does not clearly indicate whether a message is spam or ham [Table 2].\n",
    "\n",
    "#### Table 2: Number of Attachments for Spam and Ham Messages"
   ]
  },
  {
   "cell_type": "code",
   "execution_count": 15,
   "metadata": {},
   "outputs": [
    {
     "data": {
      "text/plain": [
       "    isSpamLabs\n",
       "      ham spam\n",
       "  0  6624 2158\n",
       "  1   314  230\n",
       "  2    11    6\n",
       "  4     0    1\n",
       "  5     1    2\n",
       "  18    1    0"
      ]
     },
     "metadata": {},
     "output_type": "display_data"
    }
   ],
   "source": [
    "table(emailDF$numAtt, isSpamLabs)\n",
    "oldPar = par(mfrow = c(1, 2), mar = c(1,1,1,1))"
   ]
  },
  {
   "cell_type": "markdown",
   "metadata": {},
   "source": [
    "#### Table 2: Number of attachments does not clearly indicate whether a message is spam or ham\n",
    "\n",
    "Ham messages tend to have more replies in the headers than spam messages [Figure 7]. "
   ]
  },
  {
   "cell_type": "code",
   "execution_count": 16,
   "metadata": {},
   "outputs": [
    {
     "data": {
      "image/png": "[encoded data removed]",
      "text/plain": [
       "Plot with title \"Figure 7: 'Re:' Occurrence For Spam and Ham Message Headers\""
      ]
     },
     "metadata": {},
     "output_type": "display_data"
    }
   ],
   "source": [
    "colM = c(\"#E41A1C80\", \"#377EB880\")\n",
    "isRe = factor(emailDF$isRe, labels = c(\"no Re:\", \"Re:\"))\n",
    "mosaicplot(table(isSpamLabs, isRe), main = \"Figure 7: 'Re:' Occurrence For Spam and Ham Message Headers\", xlab = \"\", ylab = \"\", color = colM)"
   ]
  },
  {
   "cell_type": "markdown",
   "metadata": {},
   "source": [
    "#### Figure 7: 'Re:' in message headers occurs more for ham than spam messages\n",
    "\n",
    "Spam messages tend to have more numeric ends for senders' addresses than ham messages [Figure 8]."
   ]
  },
  {
   "cell_type": "code",
   "execution_count": 17,
   "metadata": {},
   "outputs": [
    {
     "data": {
      "image/png": "[encoded data removed]",
      "text/plain": [
       "Plot with title \"Figure 8: Occurrence of Numeric End For Spam's and Ham's Sender Address\""
      ]
     },
     "metadata": {},
     "output_type": "display_data"
    }
   ],
   "source": [
    "fromNE = factor(emailDF$numEnd, labels = c(\"No #\", \"#\"))\n",
    "mosaicplot(table(isSpamLabs, fromNE), color = colM, \n",
    "           main = \"Figure 8: Occurrence of Numeric End For Spam's and Ham's Sender Address\", xlab=\"\", ylab = \"\")"
   ]
  },
  {
   "cell_type": "markdown",
   "metadata": {},
   "source": [
    "#### Figure 8: Sender's address tend to have a numeric end for spam messages than ham messages\n",
    "\n",
    "A decision tree with recursive partitioning based on the features created determines message label for ham or spam [Figure 9]. Features created include percent of capital letters, characters in body, HTML, forwarded email, replied email, numeric end of sender address, number of attachments, has dear, all caps, blank subject, subject exclamation count, and multiple paragraphs."
   ]
  },
  {
   "cell_type": "code",
   "execution_count": 18,
   "metadata": {},
   "outputs": [
    {
     "data": {
      "image/png": "[encoded data removed]",
      "text/plain": [
       "Plot with title \"Figure 9: Decision Tree For Ham or Spam\""
      ]
     },
     "metadata": {},
     "output_type": "display_data"
    }
   ],
   "source": [
    "setupRpart = function(data) {\n",
    "  logicalVars = which(sapply(data, is.logical))\n",
    "  facVars = lapply(data[ , logicalVars], \n",
    "                   function(x) {\n",
    "                      x = as.factor(x)\n",
    "                      levels(x) = c(\"F\", \"T\")\n",
    "                      x\n",
    "                   })\n",
    "  cbind(facVars, data[ , - logicalVars])\n",
    "}\n",
    "\n",
    "emailDFrp = setupRpart(emailDF)\n",
    "\n",
    "set.seed(418910)\n",
    "testSpamIdx = sample(numSpam, size = floor(numSpam/3))\n",
    "testHamIdx = sample(numHam, size = floor(numHam/3))\n",
    "\n",
    "testDF = rbind( emailDFrp[ emailDFrp$isSpam == \"T\", ][testSpamIdx, ], \n",
    "               emailDFrp[emailDFrp$isSpam == \"F\", ][testHamIdx, ] )\n",
    "trainDF = rbind( emailDFrp[emailDFrp$isSpam == \"T\", ][-testSpamIdx, ], \n",
    "                emailDFrp[emailDFrp$isSpam == \"F\", ][-testHamIdx, ])\n",
    "\n",
    "rpartFit = rpart(isSpam ~ ., data = trainDF, method = \"class\")\n",
    "prp(rpartFit, extra = 1, main =\"Figure 9: Decision Tree For Ham or Spam\")"
   ]
  },
  {
   "cell_type": "markdown",
   "metadata": {},
   "source": [
    "#### Figure 9: A decision tree with recursive partitioning based on the features created determines message label for ham or spam.\n",
    "\n",
    "The decision tree predictions for ham messages has 2192 true positives and 125 false negatives [Table 3].\n",
    "\n",
    "#### Table 3: Summary for Ham Predictions"
   ]
  },
  {
   "cell_type": "code",
   "execution_count": 19,
   "metadata": {},
   "outputs": [
    {
     "data": {
      "text/html": [
       "<dl class=dl-horizontal>\n",
       "\t<dt>F</dt>\n",
       "\t\t<dd>2192</dd>\n",
       "\t<dt>T</dt>\n",
       "\t\t<dd>125</dd>\n",
       "</dl>\n"
      ],
      "text/latex": [
       "\\begin{description*}\n",
       "\\item[F] 2192\n",
       "\\item[T] 125\n",
       "\\end{description*}\n"
      ],
      "text/markdown": [
       "F\n",
       ":   2192T\n",
       ":   125\n",
       "\n"
      ],
      "text/plain": [
       "   F    T \n",
       "2192  125 "
      ]
     },
     "metadata": {},
     "output_type": "display_data"
    }
   ],
   "source": [
    "predictions = predict(rpartFit, newdata = testDF[, names(testDF) != \"isSpam\"], type = \"class\")\n",
    "predsForHam = predictions[ testDF$isSpam == \"F\" ]\n",
    "summary(predsForHam)"
   ]
  },
  {
   "cell_type": "markdown",
   "metadata": {},
   "source": [
    "#### Table 3: The decision tree predictions for ham messages has 2192 true positives and 125 false negatives\n",
    "\n",
    "The classifier has a 5.39% for Type I errors and a 15.6% for Type II errors."
   ]
  },
  {
   "cell_type": "code",
   "execution_count": 20,
   "metadata": {},
   "outputs": [
    {
     "data": {
      "text/html": [
       "0.0539490720759603"
      ],
      "text/latex": [
       "0.0539490720759603"
      ],
      "text/markdown": [
       "0.0539490720759603"
      ],
      "text/plain": [
       "[1] 0.05394907"
      ]
     },
     "metadata": {},
     "output_type": "display_data"
    },
    {
     "data": {
      "text/html": [
       "0.156445556946183"
      ],
      "text/latex": [
       "0.156445556946183"
      ],
      "text/markdown": [
       "0.156445556946183"
      ],
      "text/plain": [
       "[1] 0.1564456"
      ]
     },
     "metadata": {},
     "output_type": "display_data"
    }
   ],
   "source": [
    "sum(predsForHam == \"T\") / length(predsForHam)\n",
    "predsForSpam = predictions[ testDF$isSpam == \"T\" ]\n",
    "sum(predsForSpam == \"F\") / length(predsForSpam)\n",
    "\n",
    "complexityVals = c(seq(0.00001, 0.0001, length=19),\n",
    "                   seq(0.0001, 0.001, length=19), \n",
    "                   seq(0.001, 0.005, length=9),\n",
    "                   seq(0.005, 0.01, length=9))"
   ]
  },
  {
   "cell_type": "markdown",
   "metadata": {},
   "source": [
    "### d) Apply this threshold to our original/real test set and find its Type I and Type II errors.\n",
    "\n",
    "Optimizing the value for complexity parameter, the best cp value is at 0.001, where Type I Error is minimal at 3.8% and Type II Error is minimal at 12.6% [Figure 10]. "
   ]
  },
  {
   "cell_type": "code",
   "execution_count": 21,
   "metadata": {},
   "outputs": [
    {
     "data": {
      "image/png": "[encoded data removed]",
      "text/plain": [
       "Plot with title \"Figure 10: Complexity Parameter Values For Type I and II Errors\""
      ]
     },
     "metadata": {},
     "output_type": "display_data"
    }
   ],
   "source": [
    "fits = lapply(complexityVals, function(x) {\n",
    "         rpartObj = rpart(isSpam ~ ., data = trainDF, method=\"class\", control = rpart.control(cp=x) )\n",
    "         predict(rpartObj, newdata = testDF[ , names(testDF) != \"isSpam\"], type = \"class\")\n",
    "        })\n",
    "\n",
    "spam = testDF$isSpam == \"T\"\n",
    "numSpam = sum(spam)\n",
    "numHam = sum(!spam)\n",
    "errs = sapply(fits, function(preds) {\n",
    "                      typeI = sum(preds[ !spam ] == \"T\") / numHam\n",
    "                      typeII = sum(preds[ spam ] == \"F\") / numSpam\n",
    "                      c(typeI = typeI, typeII = typeII)\n",
    "                     })\n",
    "\n",
    "cols = brewer.pal(9, \"Set1\")[c(3, 4, 5)]\n",
    "plot(errs[1,] ~ complexityVals, type=\"l\", col=cols[2], \n",
    "     lwd = 2, ylim = c(0,0.2), xlim = c(0,0.01), \n",
    "     ylab=\"Error\", xlab=\"Complexity Parameter\", main = \"Figure 10: Complexity Parameter Values For Type I and II Errors\")\n",
    "points(errs[2,] ~ complexityVals, type=\"l\", col=cols[1], lwd = 2)\n",
    "text(x =c(0.003, 0.0035), y = c(0.12, 0.05), labels=c(\"Type II Error\", \"Type I Error\"))\n",
    "minI = which(errs[1,] == min(errs[1,]))[1]\n",
    "abline(v = complexityVals[minI], col =\"grey\", lty =3, lwd=2)\n",
    "text(0.0007, errs[1, minI]+0.01, formatC(errs[1, minI], digits = 2))\n",
    "text(0.0007, errs[2, minI]+0.01, formatC(errs[2, minI], digits = 3))"
   ]
  },
  {
   "cell_type": "markdown",
   "metadata": {},
   "source": [
    "#### Figure 10: The optimal cp value is at 0.001, where Type I Error is 3.8% and Type II Error is 12.6%\n",
    "\n",
    "The function setupRnum changes true and false into numbers for further analysis. Missing values are turned into zero."
   ]
  },
  {
   "cell_type": "code",
   "execution_count": 22,
   "metadata": {},
   "outputs": [],
   "source": [
    "setupRnum = function(data) {\n",
    "  logicalVars = which(sapply(data, is.logical))\n",
    "  facVars = lapply(data[ , logicalVars], function(x) {x = as.numeric(x)})\n",
    "  cbind(facVars, data[ , - logicalVars])\n",
    "}\n",
    "\n",
    "emailDFnum = setupRnum(emailDF)\n",
    "emailDFnum[is.na(emailDFnum)]<-0"
   ]
  },
  {
   "cell_type": "markdown",
   "metadata": {},
   "source": [
    "A list of a fixed set of folds is created by a seed value for 7478 and 7479 observations."
   ]
  },
  {
   "cell_type": "code",
   "execution_count": 23,
   "metadata": {},
   "outputs": [
    {
     "data": {
      "text/html": [
       "<dl class=dl-horizontal>\n",
       "\t<dt>Fold1</dt>\n",
       "\t\t<dd>7478</dd>\n",
       "\t<dt>Fold2</dt>\n",
       "\t\t<dd>7478</dd>\n",
       "\t<dt>Fold3</dt>\n",
       "\t\t<dd>7479</dd>\n",
       "\t<dt>Fold4</dt>\n",
       "\t\t<dd>7479</dd>\n",
       "\t<dt>Fold5</dt>\n",
       "\t\t<dd>7478</dd>\n",
       "</dl>\n"
      ],
      "text/latex": [
       "\\begin{description*}\n",
       "\\item[Fold1] 7478\n",
       "\\item[Fold2] 7478\n",
       "\\item[Fold3] 7479\n",
       "\\item[Fold4] 7479\n",
       "\\item[Fold5] 7478\n",
       "\\end{description*}\n"
      ],
      "text/markdown": [
       "Fold1\n",
       ":   7478Fold2\n",
       ":   7478Fold3\n",
       ":   7479Fold4\n",
       ":   7479Fold5\n",
       ":   7478\n",
       "\n"
      ],
      "text/plain": [
       "Fold1 Fold2 Fold3 Fold4 Fold5 \n",
       " 7478  7478  7479  7479  7478 "
      ]
     },
     "metadata": {},
     "output_type": "display_data"
    }
   ],
   "source": [
    "cv_folds <- createFolds(emailDFnum$isSpam, k=5, list=TRUE, returnTrain = TRUE)\n",
    "lengths(cv_folds)"
   ]
  },
  {
   "cell_type": "markdown",
   "metadata": {},
   "source": [
    "The F1 Score, which is the harmonic mean between precision and recall, is used to minimize both Type I and Type II Errors for the rest of the analysis. The precision is how many classified spam is actually spam and the recall is how much actual spam are classified as spam. The models for Naive Bayes, CART, random forest, XGBoost, and SVM can be optimized by parameter using the Caret package documentation [4]."
   ]
  },
  {
   "cell_type": "code",
   "execution_count": 24,
   "metadata": {},
   "outputs": [],
   "source": [
    "f1 <- function(data, lev = NULL, model = NULL) {\n",
    "  f1_val <- F1_Score(y_pred = data$pred, y_true = data$obs, positive = lev[1])\n",
    "  p <- Precision(y_pred = data$pred, y_true = data$obs, positive = lev[1])\n",
    "  r <- Recall(y_pred = data$pred, y_true = data$obs, positive = lev[1])\n",
    "  fp <-sum(data$pred==1 & data$obs==0)\n",
    "  fn <-sum(data$pred==0 & data$obs==1)\n",
    "  tn <-sum(data$pred==0 & data$obs==0)\n",
    "  tp <-sum(data$pred==1 & data$obs==1)\n",
    "    t1e<-fp/(fp+tn)\n",
    "    t2e<-fn/(fn+tp)\n",
    "    c(F1 = f1_val, prec = p, rec = r, Type_I_err=t1e, Type_II_err=t2e)\n",
    "}"
   ]
  },
  {
   "cell_type": "markdown",
   "metadata": {},
   "source": [
    "A Naive Bayes classifier with a bag-of-words framework is used to minimize Type I and Type II Errors by F1 Score, where it also includes cross validation with 3 folds. The Naive Bayes model is optimized using a tuning grid, which permutates through laplace values of 0, 0.1, 0.3, 0.5, and 1, usekernel of True and False, and adjust values and True and False [Table 4]. The optimal Naive Bayes model by an F1 Score of 91.21% is where laplace = 0, usekernel = False, and adjust = False for Type I Error to be 10.99% and Type II Error to be 17.52% [Table 4].\n",
    "\n",
    "#### Table 4: The Naive Bayes model permutates through laplace, usekernel, and adjust value parameters."
   ]
  },
  {
   "cell_type": "code",
   "execution_count": 25,
   "metadata": {},
   "outputs": [
    {
     "data": {
      "text/plain": [
       "Naive Bayes \n",
       "\n",
       "9348 samples\n",
       "  29 predictor\n",
       "   2 classes: '0', '1' \n",
       "\n",
       "No pre-processing\n",
       "Resampling: Cross-Validated (3 fold) \n",
       "Summary of sample sizes: 6232, 6232, 6232 \n",
       "Resampling results across tuning parameters:\n",
       "\n",
       "  laplace  usekernel  adjust  F1         prec       rec        Type_I_err \n",
       "  0.0      FALSE      FALSE   0.9121106  0.9379491  0.8900878  0.109912243\n",
       "  0.0      FALSE       TRUE   0.9121106  0.9379491  0.8900878  0.109912243\n",
       "  0.0       TRUE      FALSE   0.8921701  0.8073419  0.9974104  0.002589555\n",
       "  0.0       TRUE       TRUE   0.8921701  0.8073419  0.9974104  0.002589555\n",
       "  0.1      FALSE      FALSE   0.9121106  0.9379491  0.8900878  0.109912243\n",
       "  0.1      FALSE       TRUE   0.9121106  0.9379491  0.8900878  0.109912243\n",
       "  0.1       TRUE      FALSE   0.8921701  0.8073419  0.9974104  0.002589555\n",
       "  0.1       TRUE       TRUE   0.8921701  0.8073419  0.9974104  0.002589555\n",
       "  0.3      FALSE      FALSE   0.9121106  0.9379491  0.8900878  0.109912243\n",
       "  0.3      FALSE       TRUE   0.9121106  0.9379491  0.8900878  0.109912243\n",
       "  0.3       TRUE      FALSE   0.8921701  0.8073419  0.9974104  0.002589555\n",
       "  0.3       TRUE       TRUE   0.8921701  0.8073419  0.9974104  0.002589555\n",
       "  0.5      FALSE      FALSE   0.9121106  0.9379491  0.8900878  0.109912243\n",
       "  0.5      FALSE       TRUE   0.9121106  0.9379491  0.8900878  0.109912243\n",
       "  0.5       TRUE      FALSE   0.8921701  0.8073419  0.9974104  0.002589555\n",
       "  0.5       TRUE       TRUE   0.8921701  0.8073419  0.9974104  0.002589555\n",
       "  1.0      FALSE      FALSE   0.9121106  0.9379491  0.8900878  0.109912243\n",
       "  1.0      FALSE       TRUE   0.9121106  0.9379491  0.8900878  0.109912243\n",
       "  1.0       TRUE      FALSE   0.8921701  0.8073419  0.9974104  0.002589555\n",
       "  1.0       TRUE       TRUE   0.8921701  0.8073419  0.9974104  0.002589555\n",
       "  Type_II_err\n",
       "  0.1752190  \n",
       "  0.1752190  \n",
       "  0.6933667  \n",
       "  0.6933667  \n",
       "  0.1752190  \n",
       "  0.1752190  \n",
       "  0.6933667  \n",
       "  0.6933667  \n",
       "  0.1752190  \n",
       "  0.1752190  \n",
       "  0.6933667  \n",
       "  0.6933667  \n",
       "  0.1752190  \n",
       "  0.1752190  \n",
       "  0.6933667  \n",
       "  0.6933667  \n",
       "  0.1752190  \n",
       "  0.1752190  \n",
       "  0.6933667  \n",
       "  0.6933667  \n",
       "\n",
       "F1 was used to select the optimal model using the largest value.\n",
       "The final values used for the model were laplace = 0, usekernel = FALSE\n",
       " and adjust = FALSE."
      ]
     },
     "metadata": {},
     "output_type": "display_data"
    }
   ],
   "source": [
    "nb_grid<-expand.grid(laplace=c(0,0.1,0.3,0.5,1), usekernel=c(T,F), adjust=c(T,F))\n",
    "train_control<-trainControl(method=\"cv\", number=3, savePredictions = 'final',summaryFunction = f1)\n",
    "model_nb<-caret::train(as.factor(isSpam) ~ .,data=emailDFnum, trControl = train_control, \n",
    "                       method='naive_bayes',tuneGrid = nb_grid)\n",
    "model_nb"
   ]
  },
  {
   "cell_type": "markdown",
   "metadata": {},
   "source": [
    "#### Table 4: The optimal Naive Bayes model by an F1 Score of 91.21% is where laplace = 0, usekernel = False, and adjust = False.\n",
    "\n",
    "Table 5 shows that the prediction folds have equal number of observations [Table 5].\n",
    "\n",
    "#### Table 5: Equal Number of Prediction Folds"
   ]
  },
  {
   "cell_type": "code",
   "execution_count": 26,
   "metadata": {},
   "outputs": [
    {
     "data": {
      "text/plain": [
       "\n",
       "Fold1 Fold2 Fold3 \n",
       " 3116  3116  3116 "
      ]
     },
     "metadata": {},
     "output_type": "display_data"
    }
   ],
   "source": [
    "table(model_nb$pred['Resample'])"
   ]
  },
  {
   "cell_type": "markdown",
   "metadata": {},
   "source": [
    "#### Table 5: Prediction Folds Show 3116 For Each Fold\n",
    "\n",
    "A CART classifier is used to minimize Type I and Type II Errors by F1 Score, where it also includes cross validation with 5 folds. The CART model is optimized using a tuning grid, which permutates through Complexity Parameter values from 0 to 0.01 by a step value of 0.0005 [Table 6]. The optimal CART model by an F1 Score of 95.81% is where cp = 0.001 for Type I Error to be 3.98% and Type II Error to be 12.76% [Table 6].\n",
    "\n",
    "#### Table 6: The CART model permutates through Complexity Parameter values."
   ]
  },
  {
   "cell_type": "code",
   "execution_count": 27,
   "metadata": {},
   "outputs": [
    {
     "data": {
      "text/plain": [
       "CART \n",
       "\n",
       "9348 samples\n",
       "  29 predictor\n",
       "   2 classes: '0', '1' \n",
       "\n",
       "No pre-processing\n",
       "Resampling: Cross-Validated (5 fold) \n",
       "Summary of sample sizes: 7478, 7478, 7478, 7479, 7479 \n",
       "Resampling results across tuning parameters:\n",
       "\n",
       "  cp      F1         prec       rec        Type_I_err  Type_II_err\n",
       "  0.0000  0.9581525  0.9561686  0.9601489  0.03985115  0.1276574  \n",
       "  0.0005  0.9590785  0.9557457  0.9624508  0.03754920  0.1293267  \n",
       "  0.0010  0.9612105  0.9581377  0.9643216  0.03567838  0.1222330  \n",
       "  0.0015  0.9593084  0.9572004  0.9614442  0.03855577  0.1247364  \n",
       "  0.0020  0.9581564  0.9592122  0.9571287  0.04287128  0.1180637  \n",
       "  0.0025  0.9575135  0.9553423  0.9597183  0.04028167  0.1301644  \n",
       "  0.0030  0.9570396  0.9544202  0.9597189  0.04028115  0.1330880  \n",
       "  0.0035  0.9556337  0.9538952  0.9574167  0.04258331  0.1343406  \n",
       "  0.0040  0.9546036  0.9548451  0.9543958  0.04560417  0.1310073  \n",
       "  0.0045  0.9534228  0.9542049  0.9526695  0.04733047  0.1326731  \n",
       "  0.0050  0.9518631  0.9533941  0.9503674  0.04963263  0.1347477  \n",
       "  0.0055  0.9500561  0.9530936  0.9470580  0.05294199  0.1351705  \n",
       "  0.0060  0.9472297  0.9533036  0.9413041  0.05869593  0.1339240  \n",
       "  0.0065  0.9453650  0.9486385  0.9421674  0.05783262  0.1480924  \n",
       "  0.0070  0.9437633  0.9432875  0.9443253  0.05567466  0.1647938  \n",
       "  0.0075  0.9436108  0.9432716  0.9440377  0.05596233  0.1647938  \n",
       "  0.0080  0.9436108  0.9432716  0.9440377  0.05596233  0.1647938  \n",
       "  0.0085  0.9436108  0.9432716  0.9440377  0.05596233  0.1647938  \n",
       "  0.0090  0.9436108  0.9432716  0.9440377  0.05596233  0.1647938  \n",
       "  0.0095  0.9438597  0.9406092  0.9472031  0.05279686  0.1735491  \n",
       "  0.0100  0.9423884  0.9385597  0.9463394  0.05366058  0.1798112  \n",
       "\n",
       "F1 was used to select the optimal model using the largest value.\n",
       "The final value used for the model was cp = 0.001."
      ]
     },
     "metadata": {},
     "output_type": "display_data"
    }
   ],
   "source": [
    "val<-seq(from = 0, to=0.01, by=0.0005)\n",
    "cart_grid<-expand.grid(cp=val)\n",
    "train_control<-trainControl(method=\"cv\", number =5, savePredictions = 'final',summaryFunction = f1)\n",
    "model_rpart<-caret::train(as.factor(isSpam) ~ .,data=emailDFnum, trControl = train_control, \n",
    "                          method='rpart',tuneGrid = cart_grid)\n",
    "model_rpart"
   ]
  },
  {
   "cell_type": "markdown",
   "metadata": {},
   "source": [
    "#### Table 6: The optimal CART model by an F1 Score of 95.81% is where cp = 0.001\n",
    "\n",
    "A Random Forest classifier is used to minimize Type I and Type II Errors by F1 Score, where it also includes cross validation with 3 folds. The random forest model is optimized using a tuning grid, which permutates through mtry, which is the number of predictors sampled for splitting at each node, valued from 1 to 25 by a step value of 2 [Table 7]. The optimal Random Forest model by an F1 Score of 98.48% is where mtry = 7 for Type I Error to be 1.16% and Type II Error to be 5.42% [Table 7].\n",
    "\n",
    "#### Table 7: The Random Forest Model permutates through mtry values"
   ]
  },
  {
   "cell_type": "code",
   "execution_count": 28,
   "metadata": {},
   "outputs": [
    {
     "data": {
      "text/plain": [
       "Random Forest \n",
       "\n",
       "9348 samples\n",
       "  29 predictor\n",
       "   2 classes: '0', '1' \n",
       "\n",
       "No pre-processing\n",
       "Resampling: Cross-Validated (3 fold) \n",
       "Summary of sample sizes: 6232, 6232, 6232 \n",
       "Resampling results across tuning parameters:\n",
       "\n",
       "  mtry  F1         prec       rec        Type_I_err   Type_II_err\n",
       "   1    0.9153283  0.8469185  0.9958279  0.004172062  0.52231957 \n",
       "   3    0.9768549  0.9702029  0.9835995  0.016400518  0.08760951 \n",
       "   5    0.9841708  0.9800324  0.9883470  0.011653000  0.05840634 \n",
       "   7    0.9848776  0.9814355  0.9883470  0.011653000  0.05423446 \n",
       "   9    0.9847333  0.9812889  0.9882031  0.011796864  0.05465165 \n",
       "  11    0.9839442  0.9805747  0.9873400  0.012660049  0.05673759 \n",
       "  13    0.9840776  0.9812636  0.9869084  0.013091641  0.05465165 \n",
       "  15    0.9842223  0.9814126  0.9870522  0.012947777  0.05423446 \n",
       "  17    0.9836502  0.9806988  0.9866206  0.013379370  0.05632040 \n",
       "  19    0.9837958  0.9807048  0.9869084  0.013091641  0.05632040 \n",
       "  21    0.9828736  0.9791555  0.9866206  0.013379370  0.06090947 \n",
       "  23    0.9824333  0.9792736  0.9856136  0.014386419  0.06049228 \n",
       "  25    0.9823645  0.9791385  0.9856136  0.014386419  0.06090947 \n",
       "\n",
       "F1 was used to select the optimal model using the largest value.\n",
       "The final value used for the model was mtry = 7."
      ]
     },
     "metadata": {},
     "output_type": "display_data"
    }
   ],
   "source": [
    "rf_grid<-expand.grid(mtry=seq(from =1, to = 25, by = 2))\n",
    "train_control<-trainControl(method=\"cv\", number=3, savePredictions = 'final',summaryFunction = f1)\n",
    "model_rf<-caret::train(as.factor(isSpam) ~ .,data=emailDFnum, trControl = train_control, \n",
    "                       ntree=200,method='rf',tuneGrid = rf_grid)\n",
    "model_rf"
   ]
  },
  {
   "cell_type": "markdown",
   "metadata": {},
   "source": [
    "#### Table 7: The optimal Random Forest model by an F1 Score of 98.48 is where mtry = 7\n",
    "\n",
    "An eXtreme Gradient Boost (XGBoost) classifier is used to minimize Type I and Type II Errors by F1 Score, where it also includes cross validation with 3 folds. The XGBoost model is optimized using a tuning grid, which permutates through a max depth value of 3, 5, 7, 9, and 11, an eta value of 0.01, 0.03, and 0.1, and a gamma value of 1, 3, 5, and 10 [Table 8]. Other parameters of XGBoost include number of rounds = 100, columns sampled by tree = 1, minimum child weight = 1, and subsample = 1. The optimal XGBoost model by an F1 Score of 96.99% is where max depth = 11, eta = 0.1, and gamma = 1 for Type I Error to be 1.33% and Type II Error to be 7.17% [Table 8].\n",
    "\n",
    "#### Table 8: The XGBoost model permutates through Max Depth, Eta, and gamma values."
   ]
  },
  {
   "cell_type": "code",
   "execution_count": 29,
   "metadata": {
    "scrolled": true
   },
   "outputs": [
    {
     "data": {
      "text/plain": [
       "eXtreme Gradient Boosting \n",
       "\n",
       "9348 samples\n",
       "  29 predictor\n",
       "   2 classes: '0', '1' \n",
       "\n",
       "No pre-processing\n",
       "Resampling: Cross-Validated (3 fold) \n",
       "Summary of sample sizes: 6232, 6232, 6232 \n",
       "Resampling results across tuning parameters:\n",
       "\n",
       "  eta   max_depth  gamma  F1         prec       rec        Type_I_err\n",
       "  0.01   3          1     0.9325138  0.8910818  0.9779888  0.02201122\n",
       "  0.01   3          3     0.9320846  0.8908973  0.9772695  0.02273054\n",
       "  0.01   3          5     0.9321577  0.8909110  0.9774133  0.02258668\n",
       "  0.01   3         10     0.9319668  0.8905632  0.9774133  0.02258668\n",
       "  0.01   5          1     0.9507558  0.9253922  0.9775572  0.02244281\n",
       "  0.01   5          3     0.9509613  0.9256514  0.9777011  0.02229895\n",
       "  0.01   5          5     0.9512952  0.9262849  0.9777011  0.02229895\n",
       "  0.01   5         10     0.9511802  0.9269723  0.9766940  0.02330600\n",
       "  0.01   7          1     0.9591569  0.9425066  0.9764063  0.02359373\n",
       "  0.01   7          3     0.9592800  0.9430139  0.9761185  0.02388146\n",
       "  0.01   7          5     0.9592591  0.9419007  0.9772695  0.02273054\n",
       "  0.01   7         10     0.9586442  0.9424558  0.9753992  0.02460078\n",
       "  0.01   9          1     0.9646711  0.9534898  0.9761185  0.02388146\n",
       "  0.01   9          3     0.9638535  0.9535405  0.9743922  0.02560783\n",
       "  0.01   9          5     0.9634780  0.9536335  0.9735290  0.02647101\n",
       "  0.01   9         10     0.9606418  0.9522226  0.9692131  0.03078694\n",
       "  0.01  11          1     0.9699404  0.9606401  0.9794274  0.02057258\n",
       "  0.01  11          3     0.9692472  0.9614971  0.9771256  0.02287441\n",
       "  0.01  11          5     0.9677136  0.9609908  0.9745360  0.02546396\n",
       "  0.01  11         10     0.9621222  0.9595075  0.9647533  0.03524673\n",
       "  0.03   3          1     0.9425920  0.9119339  0.9753992  0.02460078\n",
       "  0.03   3          3     0.9427004  0.9125171  0.9749676  0.02503237\n",
       "  0.03   3          5     0.9428897  0.9129983  0.9748238  0.02517623\n",
       "  0.03   3         10     0.9422342  0.9117723  0.9748238  0.02517623\n",
       "  0.03   5          1     0.9610995  0.9437162  0.9791397  0.02086031\n",
       "  0.03   5          3     0.9606605  0.9436751  0.9782765  0.02172349\n",
       "  0.03   5          5     0.9605208  0.9435403  0.9781326  0.02186736\n",
       "  0.03   5         10     0.9601336  0.9438599  0.9769817  0.02301827\n",
       "  0.03   7          1     0.9666731  0.9571373  0.9764063  0.02359373\n",
       "  0.03   7          3     0.9661821  0.9564483  0.9761185  0.02388146\n",
       "  0.03   7          5     0.9656163  0.9557546  0.9756870  0.02431305\n",
       "  0.03   7         10     0.9634656  0.9522349  0.9749676  0.02503237\n",
       "  0.03   9          1     0.9712868  0.9621704  0.9805783  0.01942167\n",
       "  0.03   9          3     0.9706047  0.9627737  0.9785642  0.02143576\n",
       "  0.03   9          5     0.9697869  0.9607502  0.9789958  0.02100417\n",
       "  0.03   9         10     0.9663878  0.9587931  0.9741044  0.02589555\n",
       "  0.03  11          1     0.9745092  0.9673970  0.9817292  0.01827075\n",
       "  0.03  11          3     0.9728531  0.9662287  0.9795713  0.02042872\n",
       "  0.03  11          5     0.9720513  0.9659118  0.9782765  0.02172349\n",
       "  0.03  11         10     0.9681005  0.9625965  0.9736729  0.02632715\n",
       "  0.10   3          1     0.9654720  0.9481370  0.9834556  0.01654438\n",
       "  0.10   3          3     0.9645000  0.9468022  0.9828802  0.01711984\n",
       "  0.10   3          5     0.9630905  0.9452830  0.9815854  0.01841462\n",
       "  0.10   3         10     0.9622365  0.9429776  0.9823047  0.01769530\n",
       "  0.10   5          1     0.9741426  0.9648704  0.9835995  0.01640052\n",
       "  0.10   5          3     0.9739233  0.9648531  0.9831679  0.01683211\n",
       "  0.10   5          5     0.9711921  0.9606069  0.9820170  0.01798302\n",
       "  0.10   5         10     0.9651984  0.9513809  0.9794274  0.02057258\n",
       "  0.10   7          1     0.9774265  0.9707711  0.9841749  0.01582506\n",
       "  0.10   7          3     0.9750744  0.9682310  0.9820170  0.01798302\n",
       "  0.10   7          5     0.9721643  0.9647299  0.9797151  0.02028485\n",
       "  0.10   7         10     0.9683722  0.9590815  0.9778449  0.02215509\n",
       "  0.10   9          1     0.9796257  0.9737140  0.9856136  0.01438642\n",
       "  0.10   9          3     0.9753317  0.9695802  0.9811538  0.01884621\n",
       "  0.10   9          5     0.9736348  0.9672104  0.9801467  0.01985326\n",
       "  0.10   9         10     0.9694661  0.9616518  0.9774133  0.02258668\n",
       "  0.10  11          1     0.9810470  0.9755380  0.9866206  0.01337937\n",
       "  0.10  11          3     0.9768072  0.9720766  0.9815854  0.01841462\n",
       "  0.10  11          5     0.9746716  0.9695395  0.9798590  0.02014099\n",
       "  0.10  11         10     0.9712818  0.9646684  0.9779888  0.02201122\n",
       "  Type_II_err\n",
       "  0.34668335 \n",
       "  0.34710054 \n",
       "  0.34710054 \n",
       "  0.34835211 \n",
       "  0.22861911 \n",
       "  0.22778473 \n",
       "  0.22569879 \n",
       "  0.22319566 \n",
       "  0.17271589 \n",
       "  0.17104714 \n",
       "  0.17480184 \n",
       "  0.17271589 \n",
       "  0.13808928 \n",
       "  0.13767209 \n",
       "  0.13725490 \n",
       "  0.14100960 \n",
       "  0.11639549 \n",
       "  0.11347518 \n",
       "  0.11472674 \n",
       "  0.11806425 \n",
       "  0.27325824 \n",
       "  0.27117230 \n",
       "  0.26950355 \n",
       "  0.27367543 \n",
       "  0.16937839 \n",
       "  0.16937839 \n",
       "  0.16979558 \n",
       "  0.16854401 \n",
       "  0.12682520 \n",
       "  0.12891114 \n",
       "  0.13099708 \n",
       "  0.14184397 \n",
       "  0.11180642 \n",
       "  0.10972048 \n",
       "  0.11597831 \n",
       "  0.12140175 \n",
       "  0.09595327 \n",
       "  0.09929078 \n",
       "  0.10012516 \n",
       "  0.10972048 \n",
       "  0.15602837 \n",
       "  0.16020025 \n",
       "  0.16478932 \n",
       "  0.17229871 \n",
       "  0.10387985 \n",
       "  0.10387985 \n",
       "  0.11681268 \n",
       "  0.14518148 \n",
       "  0.08594076 \n",
       "  0.09345015 \n",
       "  0.10387985 \n",
       "  0.12098456 \n",
       "  0.07717981 \n",
       "  0.08927826 \n",
       "  0.09637046 \n",
       "  0.11305799 \n",
       "  0.07175636 \n",
       "  0.08176888 \n",
       "  0.08927826 \n",
       "  0.10387985 \n",
       "\n",
       "Tuning parameter 'nrounds' was held constant at a value of 100\n",
       "Tuning\n",
       "\n",
       "Tuning parameter 'min_child_weight' was held constant at a value of 1\n",
       "\n",
       "Tuning parameter 'subsample' was held constant at a value of 1\n",
       "F1 was used to select the optimal model using the largest value.\n",
       "The final values used for the model were nrounds = 100, max_depth = 11, eta\n",
       " = 0.1, gamma = 1, colsample_bytree = 1, min_child_weight = 1 and subsample = 1."
      ]
     },
     "metadata": {},
     "output_type": "display_data"
    }
   ],
   "source": [
    "xgb_grid<-expand.grid(nrounds = 100, max_depth = c(3,5,7,9,11), eta = c(0.01,0.03,0.1), \n",
    "                      gamma=c(1,3,5,10), colsample_bytree=1, min_child_weight=1, subsample=1)\n",
    "train_control<-trainControl(method=\"cv\", number=3, savePredictions = 'final',summaryFunction = f1)\n",
    "model_xgb<-caret::train(as.factor(isSpam) ~ .,data=emailDFnum, trControl = train_control,\n",
    "                        method='xgbTree',tuneGrid = xgb_grid)\n",
    "model_xgb"
   ]
  },
  {
   "cell_type": "markdown",
   "metadata": {},
   "source": [
    "#### Table 8: The optimal Random Forest model by an F1 Score of 98.48 is where mtry = 7\n",
    "\n",
    "A Support Vector Machine with Linear Kernel classifier is used to minimize Type I and Type II Errors by F1 Score, where it also includes cross validation with 3 folds. The Linear SVM model is optimized using a tuning grid, which permutates through a cost value of 0.001, 0.01, 0.1, 1, 10, and 100 [Table 9]. The optimal Linear SVM model by an F1 Score of 94.54% is where cost = 10 for Type I Error to be 3.33% and Type II Error to be 22.69% [Table 9].\n",
    "\n",
    "#### Table 9: The Linear SVM model permutates through cost values."
   ]
  },
  {
   "cell_type": "code",
   "execution_count": 30,
   "metadata": {},
   "outputs": [
    {
     "data": {
      "text/plain": [
       "Support Vector Machines with Linear Kernel \n",
       "\n",
       "9348 samples\n",
       "  29 predictor\n",
       "   2 classes: '0', '1' \n",
       "\n",
       "No pre-processing\n",
       "Resampling: Cross-Validated (3 fold) \n",
       "Summary of sample sizes: 6232, 6232, 6232 \n",
       "Resampling results across tuning parameters:\n",
       "\n",
       "  cost   F1         prec       rec        Type_I_err  Type_II_err\n",
       "  1e-03  0.9327343  0.9012696  0.9664796  0.03352036  0.3070505  \n",
       "  1e-02  0.9420311  0.9186760  0.9666235  0.03337649  0.2482270  \n",
       "  1e-01  0.9432474  0.9226816  0.9647533  0.03524673  0.2344597  \n",
       "  1e+00  0.9450248  0.9241094  0.9669112  0.03308876  0.2302879  \n",
       "  1e+01  0.9454100  0.9251133  0.9666235  0.03337649  0.2269504  \n",
       "  1e+02  0.9451192  0.9249523  0.9661919  0.03380809  0.2273675  \n",
       "\n",
       "F1 was used to select the optimal model using the largest value.\n",
       "The final value used for the model was cost = 10."
      ]
     },
     "metadata": {},
     "output_type": "display_data"
    }
   ],
   "source": [
    "svm_grid<-expand.grid(cost=c(0.001,0.01,0.1,1,10,100))\n",
    "train_control<-trainControl(method=\"cv\", number=3, savePredictions = 'final',summaryFunction = f1)\n",
    "model_svm<-caret::train(as.factor(isSpam) ~ .,data=emailDFnum, trControl = train_control,method='svmLinear2',tuneGrid = svm_grid)\n",
    "model_svm"
   ]
  },
  {
   "cell_type": "markdown",
   "metadata": {},
   "source": [
    "#### Table 9: The optimal Linear SVM model by an F1 Score of 94.54% is where cost = 10\n",
    "\n",
    "A Support Vector Machine with Polynomial Kernel classifier is used to minimize Type I and Type II Errors by F1 Score, where it also includes cross validation with 3 folds. The Polynomial SVM model is optimized using a tuning grid, which permutates through a C value of 0.001, 0.01, 0.1, 1, 10, and 100, and a degree value of 1, 2, and 3 [Table 10]. Other parameters for Polynomial SVM includes scale to be True. The optimal Polynomial SVM model by an F1 Score of 96.94% is where degree = 2 and C = 1 for Type I Error to be 2.24% and Type II Error to be 11.38% [Table 10].\n",
    "\n",
    "#### Table 10: The Polynomial SVM model permutates through C and degree values."
   ]
  },
  {
   "cell_type": "code",
   "execution_count": 31,
   "metadata": {},
   "outputs": [
    {
     "data": {
      "text/plain": [
       "Support Vector Machines with Polynomial Kernel \n",
       "\n",
       "9348 samples\n",
       "  29 predictor\n",
       "   2 classes: '0', '1' \n",
       "\n",
       "No pre-processing\n",
       "Resampling: Cross-Validated (3 fold) \n",
       "Summary of sample sizes: 6232, 6232, 6232 \n",
       "Resampling results across tuning parameters:\n",
       "\n",
       "  C      degree  F1         prec       rec        Type_I_err  Type_II_err\n",
       "  1e-03  1       0.9310998  0.8992480  0.9653287  0.03467127  0.3137255  \n",
       "  1e-03  2       0.9595120  0.9416303  0.9781326  0.02186736  0.1760534  \n",
       "  1e-03  3       0.9669600  0.9514197  0.9830240  0.01697597  0.1455987  \n",
       "  1e-02  1       0.9414085  0.9176213  0.9664796  0.03352036  0.2515645  \n",
       "  1e-02  2       0.9664900  0.9561053  0.9771256  0.02287441  0.1301627  \n",
       "  1e-02  3       0.9689599  0.9548864  0.9834556  0.01654438  0.1347518  \n",
       "  1e-01  1       0.9437422  0.9218008  0.9667674  0.03323263  0.2377972  \n",
       "  1e-01  2       0.9671495  0.9583701  0.9761185  0.02388146  0.1230705  \n",
       "  1e-01  3       0.9684129  0.9557275  0.9814415  0.01855848  0.1318315  \n",
       "  1e+00  1       0.9442656  0.9229276  0.9666235  0.03337649  0.2340426  \n",
       "  1e+00  2       0.9694051  0.9613999  0.9775572  0.02244281  0.1138924  \n",
       "  1e+00  3       0.9693626  0.9581279  0.9808661  0.01913394  0.1243221  \n",
       "  1e+01  1       0.9443858  0.9234169  0.9663358  0.03366422  0.2323738  \n",
       "  1e+01  2       0.9679052  0.9599814  0.9759747  0.02402532  0.1180642  \n",
       "  1e+01  3       0.9685410  0.9587346  0.9785642  0.02143576  0.1222361  \n",
       "  1e+02  1       0.9446398  0.9240442  0.9661919  0.03380809  0.2302879  \n",
       "  1e+02  2       0.9400320  0.9461429  0.9343979  0.06560207  0.1543596  \n",
       "  1e+02  3       0.9563877  0.9573355  0.9556898  0.04431017  0.1230705  \n",
       "\n",
       "Tuning parameter 'scale' was held constant at a value of TRUE\n",
       "F1 was used to select the optimal model using the largest value.\n",
       "The final values used for the model were degree = 2, scale = TRUE and C = 1."
      ]
     },
     "metadata": {},
     "output_type": "display_data"
    }
   ],
   "source": [
    "svm_grid<-expand.grid(C=c(0.001,0.01,0.1,1,10,100),scale=TRUE,degree=c(1,2,3))\n",
    "train_control<-trainControl(method=\"cv\", number=3, savePredictions = 'final',summaryFunction = f1)\n",
    "model_svm<-caret::train(as.factor(isSpam) ~ .,data=emailDFnum, trControl = train_control,method='svmPoly',tuneGrid = svm_grid)\n",
    "model_svm"
   ]
  },
  {
   "cell_type": "markdown",
   "metadata": {},
   "source": [
    "#### Table 10: The optimal Polynomial SVM model by an F1 Score of 96.94% is where degree = 2 and C = 1\n",
    "\n",
    "A Support Vector Machine with Radial Basis Function Kernel classifier is used to minimize Type I and Type II Errors by F1 Score, where it also includes cross validation with 3 folds. The Radial SVM model is optimized using a tuning grid, which permutates through a C value of 0.001, 0.01, 0.1, 1, 10, and 100, and a sigma value of 0.01, 0.1, 1, and 10 [Table 11]. The optimal Radial SVM model by an F1 Score of 97.13% is where sigma = 0.1 and C = 100 for Type I Error to be 1.84% and Type II Error to be 11.47% [Table 11].\n",
    "\n",
    "#### Table 11: The Radial SVM model permutates through C and sigma values"
   ]
  },
  {
   "cell_type": "code",
   "execution_count": 32,
   "metadata": {},
   "outputs": [
    {
     "data": {
      "text/plain": [
       "Support Vector Machines with Radial Basis Function Kernel \n",
       "\n",
       "9348 samples\n",
       "  29 predictor\n",
       "   2 classes: '0', '1' \n",
       "\n",
       "No pre-processing\n",
       "Resampling: Cross-Validated (3 fold) \n",
       "Summary of sample sizes: 6232, 6232, 6232 \n",
       "Resampling results across tuning parameters:\n",
       "\n",
       "  C      sigma  F1         prec       rec        Type_I_err    Type_II_err\n",
       "  1e-03   0.01  0.8529358  0.7435815  1.0000000  0.0000000000  1.00000000 \n",
       "  1e-03   0.10  0.8529358  0.7435815  1.0000000  0.0000000000  1.00000000 \n",
       "  1e-03   1.00  0.8529358  0.7435815  1.0000000  0.0000000000  1.00000000 \n",
       "  1e-03  10.00  0.8529358  0.7435815  1.0000000  0.0000000000  1.00000000 \n",
       "  1e-02   0.01  0.9127251  0.8632703  0.9682060  0.0317939865  0.44472257 \n",
       "  1e-02   0.10  0.8611295  0.7561314  1.0000000  0.0000000000  0.93533584 \n",
       "  1e-02   1.00  0.8529358  0.7435815  1.0000000  0.0000000000  1.00000000 \n",
       "  1e-02  10.00  0.8529358  0.7435815  1.0000000  0.0000000000  1.00000000 \n",
       "  1e-01   0.01  0.9458026  0.9212932  0.9716588  0.0283412459  0.24071756 \n",
       "  1e-01   0.10  0.9528463  0.9522187  0.9535319  0.0464681341  0.13892365 \n",
       "  1e-01   1.00  0.8574259  0.7505967  0.9997123  0.0002877284  0.96328744 \n",
       "  1e-01  10.00  0.8529358  0.7435815  1.0000000  0.0000000000  1.00000000 \n",
       "  1e+00   0.01  0.9565743  0.9434944  0.9700762  0.0299237520  0.16854401 \n",
       "  1e+00   0.10  0.9663325  0.9584120  0.9743922  0.0256078262  0.12265332 \n",
       "  1e+00   1.00  0.9642521  0.9662200  0.9623076  0.0376924184  0.09762203 \n",
       "  1e+00  10.00  0.8998152  0.8182655  0.9994245  0.0005754568  0.64372132 \n",
       "  1e+01   0.01  0.9655708  0.9551183  0.9762624  0.0237375917  0.13308302 \n",
       "  1e+01   0.10  0.9703817  0.9606813  0.9802906  0.0197093943  0.11639549 \n",
       "  1e+01   1.00  0.9673914  0.9723937  0.9624514  0.0375485542  0.07926575 \n",
       "  1e+01  10.00  0.9019527  0.8228798  0.9978420  0.0021579629  0.62286191 \n",
       "  1e+02   0.01  0.9676278  0.9573764  0.9781326  0.0218673572  0.12640801 \n",
       "  1e+02   0.10  0.9713153  0.9612654  0.9815854  0.0184146166  0.11472674 \n",
       "  1e+02   1.00  0.9674020  0.9741747  0.9607251  0.0392749245  0.07384230 \n",
       "  1e+02  10.00  0.9019527  0.8228798  0.9978420  0.0021579629  0.62286191 \n",
       "\n",
       "F1 was used to select the optimal model using the largest value.\n",
       "The final values used for the model were sigma = 0.1 and C = 100."
      ]
     },
     "metadata": {},
     "output_type": "display_data"
    }
   ],
   "source": [
    "svm_grid<-expand.grid(C=c(0.001,0.01,0.1,1,10,100),sigma=c(0.01,0.1,1,10))\n",
    "train_control<-trainControl(method=\"cv\", number=3, savePredictions = 'final',summaryFunction = f1)\n",
    "model_svm<-caret::train(as.factor(isSpam) ~ .,data=emailDFnum, trControl = train_control,method='svmRadial',tuneGrid = svm_grid)\n",
    "model_svm"
   ]
  },
  {
   "cell_type": "markdown",
   "metadata": {},
   "source": [
    "#### Table 11: The optimal Radial SVM model by an F1 Score of 97.13% is where sigma = 0.1 and C = 100\n",
    "\n",
    "## Conclusion\n",
    "\n",
    "The recursive partitioning and classification trees algorithm is efficient for classifying emails into Spam and Ham. The best metric for comparing classification models is by F1 Score because it is the harmonic mean between precision and recall. Model performance gains come from tuning parameters by grid search. The optimal Random Forest model is the best classification model with an F1 Score of 98.48% is where mtry = 7 for Type I Error to be 1.16% and Type II Error to be 5.42% [Table 7]. Compared to the default results where Type I Error is 3.8% and Type II Error is 12.6%, Type I Error improved by 2.64% and Type II Error improved by 7.18%. Cross validation with more folds can ensure that tuning parameters for best model also reduces the model over-fitting the data. There are some improvements to be made on the bag of words framework for Naive Bayes and Random Forest to perform even better. More granular parameter tuning also can create higher F1 Score for better classification accuracy of ham and spam messages.\n",
    "\n",
    "## References\n",
    "[1] \"Apache Spam Assassin,\" The Apache Software Foundation, [Online]. 2015. Available http://spamassassin.apache.org. [Accessed: 16-July-2018].\n",
    "\n",
    "[2] D. Lang and D. Nolan, Data Science in R: A Case Studies Approach to Computation Reasoning and Problem Solving. New York, New York: CRC Press. \n",
    "\n",
    "[3] R. Slater. \"Week10b,\" 2DS SMU, [Python Notebook]. 2018. Class Attachment Download. [Accessed: 16-July-2018].\n",
    "\n",
    "[4] \"Available Models,\" The Caret Package, [Online]. 2018. Available https://topepo.github.io/caret/available-models.html. [Accessed: 19-July-2018]."
   ]
  }
 ],
 "metadata": {
  "kernelspec": {
   "display_name": "R",
   "language": "R",
   "name": "ir"
  },
  "language_info": {
   "codemirror_mode": "r",
   "file_extension": ".r",
   "mimetype": "text/x-r-source",
   "name": "R",
   "pygments_lexer": "r",
   "version": "3.5.0"
  }
 },
 "nbformat": 4,
 "nbformat_minor": 2
}
